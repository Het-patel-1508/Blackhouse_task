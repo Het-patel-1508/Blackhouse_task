{
 "cells": [
  {
   "cell_type": "markdown",
   "id": "ed17d9cc",
   "metadata": {},
   "source": [
    "# Blockhouse Task – Excel-based Slippage Computation"
   ]
  },
  {
   "cell_type": "code",
   "execution_count": null,
   "id": "fd84002e",
   "metadata": {},
   "outputs": [],
   "source": [
    "import pandas as pd\n",
    "import numpy as np\n",
    "import matplotlib.pyplot as plt\n",
    "\n",
    "plt.style.use('seaborn-v0_8-notebook')"
   ]
  },
  {
   "cell_type": "code",
   "execution_count": null,
   "id": "3865a984",
   "metadata": {},
   "outputs": [],
   "source": [
    "def compute_slippage_row(row, x):\n",
    "    ask_prices = [row[f'ask_px_0{i}'] for i in range(10)]\n",
    "    ask_sizes  = [row[f'ask_sz_0{i}'] for i in range(10)]\n",
    "    bid_price = row['bid_px_00']\n",
    "    ask_price = row['ask_px_00']\n",
    "\n",
    "    cumulative_size = 0\n",
    "    cost = 0\n",
    "    for px, sz in zip(ask_prices, ask_sizes):\n",
    "        if cumulative_size + sz <= x:\n",
    "            cost += px * sz\n",
    "            cumulative_size += sz\n",
    "        else:\n",
    "            remaining = x - cumulative_size\n",
    "            cost += px * remaining\n",
    "            cumulative_size += remaining\n",
    "            break\n",
    "    if cumulative_size < x:\n",
    "        return np.nan\n",
    "    avg_price = cost / x\n",
    "    mid_price = (bid_price + ask_price) / 2\n",
    "    return avg_price - mid_price"
   ]
  },
  {
   "cell_type": "code",
   "execution_count": null,
   "id": "27494173",
   "metadata": {},
   "outputs": [],
   "source": [
    "# 📥 Replace the path below with your actual Excel file name\n",
    "file_path = \"/mnt/data/your_file.xlsx\"  # <-- Update this after upload\n",
    "df = pd.read_excel(file_path)\n",
    "\n",
    "print(\"Loaded rows:\", len(df))"
   ]
  },
  {
   "cell_type": "code",
   "execution_count": null,
   "id": "ac51b405",
   "metadata": {},
   "outputs": [],
   "source": [
    "x = 200  # Change as needed\n",
    "df['slippage_x_200'] = df.apply(lambda row: compute_slippage_row(row, x), axis=1)\n",
    "df[['ts_event', 'slippage_x_200']].head()"
   ]
  },
  {
   "cell_type": "code",
   "execution_count": null,
   "id": "03ac10b8",
   "metadata": {},
   "outputs": [],
   "source": [
    "df[['ts_event', 'slippage_x_200']].plot(x='ts_event', y='slippage_x_200', figsize=(12, 4), title=f'Slippage Over Time for x = {x}')\n",
    "plt.xlabel(\"Timestamp\")\n",
    "plt.ylabel(\"Slippage ($)\")\n",
    "plt.grid(True)\n",
    "plt.show()"
   ]
  }
 ],
 "metadata": {},
 "nbformat": 4,
 "nbformat_minor": 5
}
