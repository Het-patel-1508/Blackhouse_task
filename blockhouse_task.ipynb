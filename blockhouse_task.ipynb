{
 "cells": [
  {
   "cell_type": "markdown",
   "id": "4ffea645",
   "metadata": {},
   "source": [
    "# Blockhouse Work Trial Task-2\n",
    "\n",
    "**Modeling Temporary Impact Function and Optimizing Order Execution**"
   ]
  },
  {
   "cell_type": "markdown",
   "id": "162e4081",
   "metadata": {},
   "source": [
    "## Problem Overview\n",
    "\n",
    "We aim to understand the temporary impact of market orders using order book data from 3 tickers (CRWV, FROG, SOUN). The main goals are:\n",
    "\n",
    "1. **Model the temporary impact function** \\( g_t(x) \\) — slippage due to buying \\( x \\) shares at time \\( t \\).\n",
    "2. **Design execution strategies** to buy \\( S = 10,000 \\) shares over a trading day (\\( N = 390 \\) periods), minimizing total slippage.\n",
    "\n",
    "---\n"
   ]
  },
  {
   "cell_type": "code",
   "execution_count": null,
   "id": "aab1af9e",
   "metadata": {},
   "outputs": [],
   "source": [
    "import pandas as pd\n",
    "import numpy as np\n",
    "import matplotlib.pyplot as plt\n",
    "import os\n",
    "\n",
    "plt.style.use('seaborn-v0_8-notebook')"
   ]
  },
  {
   "cell_type": "code",
   "execution_count": null,
   "id": "e35734cd",
   "metadata": {},
   "outputs": [],
   "source": [
    "def compute_slippage(ask_prices, ask_sizes, x, bid_price, ask_price):\n",
    "    cumulative_size = 0\n",
    "    cost = 0\n",
    "    for px, sz in zip(ask_prices, ask_sizes):\n",
    "        if cumulative_size + sz <= x:\n",
    "            cost += px * sz\n",
    "            cumulative_size += sz\n",
    "        else:\n",
    "            remaining = x - cumulative_size\n",
    "            cost += px * remaining\n",
    "            cumulative_size += remaining\n",
    "            break\n",
    "    if cumulative_size < x:\n",
    "        return np.nan  # not enough liquidity\n",
    "    avg_price = cost / x\n",
    "    mid_price = (bid_price + ask_price) / 2\n",
    "    return avg_price - mid_price"
   ]
  },
  {
   "cell_type": "code",
   "execution_count": null,
   "id": "60674d0d",
   "metadata": {},
   "outputs": [],
   "source": [
    "# Sample from CRWV\n",
    "ask_px = [55.4, 55.46, 55.47, 55.5, 55.93, 56.0, 56.24, 56.45, 56.66, 56.7]\n",
    "ask_sz = [199, 10, 100, 100, 50, 200, 3, 5, 4, 10]\n",
    "bid_px = [55.1, 55.06, 55.03, 55.00, 54.98, 54.80, 54.78, 54.66, 54.57, 54.55]\n",
    "\n",
    "buy_sizes = np.arange(10, 700, 10)\n",
    "slippage_values = [compute_slippage(ask_px, ask_sz, x, bid_px[0], ask_px[0]) for x in buy_sizes]\n",
    "\n",
    "plt.figure(figsize=(10,5))\n",
    "plt.plot(buy_sizes, slippage_values, label=\"Temporary Impact g(x)\", color=\"orange\")\n",
    "plt.xlabel(\"Buy Size x\")\n",
    "plt.ylabel(\"Slippage ($)\")\n",
    "plt.title(\"Temporary Impact Function g(x)\")\n",
    "plt.grid(True)\n",
    "plt.legend()\n",
    "plt.show()"
   ]
  },
  {
   "cell_type": "markdown",
   "id": "2bb72bdb",
   "metadata": {},
   "source": [
    "## Strategy 1: Equal Allocation\n",
    "Buy $S/390$ shares uniformly across all periods."
   ]
  },
  {
   "cell_type": "code",
   "execution_count": null,
   "id": "650fcffc",
   "metadata": {},
   "outputs": [],
   "source": [
    "S = 10000\n",
    "N = 390\n",
    "allocation_equal = np.full(N, S // N)\n",
    "\n",
    "plt.plot(allocation_equal)\n",
    "plt.title(\"Equal Allocation Strategy\")\n",
    "plt.xlabel(\"Minute\")\n",
    "plt.ylabel(\"Shares Bought\")\n",
    "plt.grid(True)\n",
    "plt.show()"
   ]
  },
  {
   "cell_type": "markdown",
   "id": "168d6f0d",
   "metadata": {},
   "source": [
    "## Strategy 2: Greedy Allocation\n",
    "Buy more shares in minutes with lower slippage (using simulated slippage values)."
   ]
  },
  {
   "cell_type": "code",
   "execution_count": null,
   "id": "03d2b7b3",
   "metadata": {},
   "outputs": [],
   "source": [
    "# Simulated slippage (lower is better)\n",
    "np.random.seed(42)\n",
    "simulated_slippage = np.sort(np.random.rand(N))\n",
    "inverse_slip = 1 / (simulated_slippage + 0.01)\n",
    "allocation_greedy = (inverse_slip / inverse_slip.sum()) * S\n",
    "\n",
    "plt.plot(allocation_greedy)\n",
    "plt.title(\"Greedy Allocation Based on Simulated Slippage\")\n",
    "plt.xlabel(\"Minute\")\n",
    "plt.ylabel(\"Shares Bought\")\n",
    "plt.grid(True)\n",
    "plt.show()"
   ]
  }
 ],
 "metadata": {},
 "nbformat": 4,
 "nbformat_minor": 5
}
